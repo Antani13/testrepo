{
 "cells": [
  {
   "cell_type": "markdown",
   "id": "a940164c-ec14-48fe-9541-adea3881154a",
   "metadata": {},
   "source": [
    "# Data Science Tools and Ecosystem"
   ]
  },
  {
   "cell_type": "markdown",
   "id": "9177e135-2105-4a86-9283-c63984931445",
   "metadata": {},
   "source": [
    "In this notebook, Data Science Tools and Ecosystem are summarized."
   ]
  },
  {
   "cell_type": "markdown",
   "id": "58c1fd1a-8cf5-4fd8-b696-1ed05866bde2",
   "metadata": {},
   "source": [
    "**Objectives:**\n",
    "+ List popular languages for Data Science\n",
    "+ List popular libraries used by Data Scientist\n",
    "+ List popular Data Science Tools\n",
    "+ Provide examples of arithmetic expressions using Python"
   ]
  },
  {
   "cell_type": "markdown",
   "id": "c1438b64-8c8c-4935-aa2b-861a3be49e90",
   "metadata": {},
   "source": [
    "Some of the popular languages that Data Scientist use are:\n",
    "1. Python\n",
    "2. R\n",
    "3. SQL\n",
    "4. Java\n",
    "5. Julia\n",
    "6. Scala"
   ]
  },
  {
   "cell_type": "markdown",
   "id": "c100c217-1882-4864-b686-8456aba83031",
   "metadata": {},
   "source": [
    "Some of the commonly used libraries used by Data Scientists include:\n",
    "1. Pandas\n",
    "2. Numpy\n",
    "3. PyTorch\n",
    "4. Matplotlib\n",
    "5. TensorFlow\n",
    "6. Ggplot2"
   ]
  },
  {
   "cell_type": "markdown",
   "id": "d7bf3a3e-51e3-46dc-89fb-727d68435554",
   "metadata": {},
   "source": [
    "| Data Science Tools |\n",
    "| -------------------- |\n",
    "| Jupyter Notebook|\n",
    "| Jupyter Lab |\n",
    "| Apache Zeppelin |\n",
    "| R Studio |\n",
    "| Spyder |\n"
   ]
  },
  {
   "cell_type": "markdown",
   "id": "c0e9fe95-b44e-41cf-805d-3ea1ebde753d",
   "metadata": {},
   "source": [
    "### Below are a few examples of evaluating arithmetic expressions in Python"
   ]
  },
  {
   "cell_type": "code",
   "execution_count": 21,
   "id": "1cb043a9-2aed-423b-a71c-f6062845ddbd",
   "metadata": {},
   "outputs": [
    {
     "data": {
      "text/plain": [
       "17"
      ]
     },
     "execution_count": 21,
     "metadata": {},
     "output_type": "execute_result"
    }
   ],
   "source": [
    "# This is a simple  arithmetic expression to mutiply then add integers.\n",
    "\n",
    "(3*4)+5"
   ]
  },
  {
   "cell_type": "code",
   "execution_count": 24,
   "id": "2d74a9b8-a71e-432d-8b11-1bf35b21b2a3",
   "metadata": {},
   "outputs": [
    {
     "data": {
      "text/plain": [
       "3.3333333333333335"
      ]
     },
     "execution_count": 24,
     "metadata": {},
     "output_type": "execute_result"
    }
   ],
   "source": [
    "# This will convert 200 minutes to hours by diving by 60.\n",
    "\n",
    "200/60"
   ]
  },
  {
   "cell_type": "markdown",
   "id": "b9b66b2b-a22a-4eff-9d22-4b5c4396d2be",
   "metadata": {},
   "source": [
    "## Author\n",
    "Anibal Ramos"
   ]
  },
  {
   "cell_type": "code",
   "execution_count": null,
   "id": "e4a0856f-460e-4639-82f9-996e08653658",
   "metadata": {},
   "outputs": [],
   "source": []
  }
 ],
 "metadata": {
  "kernelspec": {
   "display_name": "Python 3 (ipykernel)",
   "language": "python",
   "name": "python3"
  },
  "language_info": {
   "codemirror_mode": {
    "name": "ipython",
    "version": 3
   },
   "file_extension": ".py",
   "mimetype": "text/x-python",
   "name": "python",
   "nbconvert_exporter": "python",
   "pygments_lexer": "ipython3",
   "version": "3.11.9"
  }
 },
 "nbformat": 4,
 "nbformat_minor": 5
}
